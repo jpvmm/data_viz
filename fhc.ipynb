{
 "cells": [
  {
   "cell_type": "code",
   "execution_count": 6,
   "metadata": {},
   "outputs": [],
   "source": [
    "import numpy as np\n",
    "import pandas as pd\n",
    "import seaborn as sea \n",
    "import matplotlib.pyplot as plt"
   ]
  },
  {
   "cell_type": "code",
   "execution_count": 101,
   "metadata": {},
   "outputs": [],
   "source": [
    "bca = pd.read_csv('/home/joao/Projetos/trabalho_fasam/geral/bca.csv')\n",
    "\n",
    "\n",
    "bca = bca.rename(index = str, columns={\"Year\": \"Ano\", \"Value\":\"Valor (Bilhões de Reais)\"})\n",
    "\n",
    "bca['Ano'] = bca['Ano'].apply(lambda x: x[0:4])\n",
    "\n"
   ]
  },
  {
   "cell_type": "code",
   "execution_count": 146,
   "metadata": {},
   "outputs": [],
   "source": [
    "def periods(row):\n",
    "    if row['Ano'] < '2003':\n",
    "        row['Ano']\n",
    "        return 'FHC'\n",
    "    if row['Ano'] == '2003':\n",
    "        return 'FHC/Lula'\n",
    "    if row['Ano'] > '2003' and row['Ano'] < '2011':\n",
    "        return 'Lula'\n",
    "    if row['Ano'] == '2011':\n",
    "        return 'Lula/Dilma'\n",
    "    if row['Ano'] > '2011':\n",
    "        return \"Dilma\""
   ]
  },
  {
   "cell_type": "code",
   "execution_count": 147,
   "metadata": {},
   "outputs": [],
   "source": [
    "bca['Periodos'] = bca.apply(lambda row: periods(row), axis = 1)"
   ]
  },
  {
   "cell_type": "code",
   "execution_count": 148,
   "metadata": {},
   "outputs": [
    {
     "data": {
      "text/html": [
       "<div>\n",
       "<style scoped>\n",
       "    .dataframe tbody tr th:only-of-type {\n",
       "        vertical-align: middle;\n",
       "    }\n",
       "\n",
       "    .dataframe tbody tr th {\n",
       "        vertical-align: top;\n",
       "    }\n",
       "\n",
       "    .dataframe thead th {\n",
       "        text-align: right;\n",
       "    }\n",
       "</style>\n",
       "<table border=\"1\" class=\"dataframe\">\n",
       "  <thead>\n",
       "    <tr style=\"text-align: right;\">\n",
       "      <th></th>\n",
       "      <th>Ano</th>\n",
       "      <th>Valor (Bilhões de Reais)</th>\n",
       "      <th>Periodos</th>\n",
       "    </tr>\n",
       "  </thead>\n",
       "  <tbody>\n",
       "    <tr>\n",
       "      <th>0</th>\n",
       "      <td>1995</td>\n",
       "      <td>-18.384</td>\n",
       "      <td>FHC</td>\n",
       "    </tr>\n",
       "    <tr>\n",
       "      <th>1</th>\n",
       "      <td>1996</td>\n",
       "      <td>-23.502</td>\n",
       "      <td>FHC</td>\n",
       "    </tr>\n",
       "    <tr>\n",
       "      <th>2</th>\n",
       "      <td>1997</td>\n",
       "      <td>-30.453</td>\n",
       "      <td>FHC</td>\n",
       "    </tr>\n",
       "    <tr>\n",
       "      <th>3</th>\n",
       "      <td>1998</td>\n",
       "      <td>-33.416</td>\n",
       "      <td>FHC</td>\n",
       "    </tr>\n",
       "    <tr>\n",
       "      <th>4</th>\n",
       "      <td>1999</td>\n",
       "      <td>-25.334</td>\n",
       "      <td>FHC</td>\n",
       "    </tr>\n",
       "    <tr>\n",
       "      <th>5</th>\n",
       "      <td>2000</td>\n",
       "      <td>-24.224</td>\n",
       "      <td>FHC</td>\n",
       "    </tr>\n",
       "    <tr>\n",
       "      <th>6</th>\n",
       "      <td>2001</td>\n",
       "      <td>-23.215</td>\n",
       "      <td>FHC</td>\n",
       "    </tr>\n",
       "    <tr>\n",
       "      <th>7</th>\n",
       "      <td>2002</td>\n",
       "      <td>-7.637</td>\n",
       "      <td>FHC</td>\n",
       "    </tr>\n",
       "    <tr>\n",
       "      <th>8</th>\n",
       "      <td>2003</td>\n",
       "      <td>4.178</td>\n",
       "      <td>FHC/Lula</td>\n",
       "    </tr>\n",
       "    <tr>\n",
       "      <th>9</th>\n",
       "      <td>2004</td>\n",
       "      <td>11.679</td>\n",
       "      <td>Lula</td>\n",
       "    </tr>\n",
       "    <tr>\n",
       "      <th>10</th>\n",
       "      <td>2005</td>\n",
       "      <td>13.985</td>\n",
       "      <td>Lula</td>\n",
       "    </tr>\n",
       "    <tr>\n",
       "      <th>11</th>\n",
       "      <td>2006</td>\n",
       "      <td>13.642</td>\n",
       "      <td>Lula</td>\n",
       "    </tr>\n",
       "    <tr>\n",
       "      <th>12</th>\n",
       "      <td>2007</td>\n",
       "      <td>1.551</td>\n",
       "      <td>Lula</td>\n",
       "    </tr>\n",
       "    <tr>\n",
       "      <th>13</th>\n",
       "      <td>2008</td>\n",
       "      <td>-28.192</td>\n",
       "      <td>Lula</td>\n",
       "    </tr>\n",
       "    <tr>\n",
       "      <th>14</th>\n",
       "      <td>2009</td>\n",
       "      <td>-24.302</td>\n",
       "      <td>Lula</td>\n",
       "    </tr>\n",
       "    <tr>\n",
       "      <th>15</th>\n",
       "      <td>2010</td>\n",
       "      <td>-47.273</td>\n",
       "      <td>Lula</td>\n",
       "    </tr>\n",
       "    <tr>\n",
       "      <th>16</th>\n",
       "      <td>2011</td>\n",
       "      <td>-52.473</td>\n",
       "      <td>Lula/Dilma</td>\n",
       "    </tr>\n",
       "    <tr>\n",
       "      <th>17</th>\n",
       "      <td>2012</td>\n",
       "      <td>-54.249</td>\n",
       "      <td>Dilma</td>\n",
       "    </tr>\n",
       "    <tr>\n",
       "      <th>18</th>\n",
       "      <td>2013</td>\n",
       "      <td>-81.227</td>\n",
       "      <td>Dilma</td>\n",
       "    </tr>\n",
       "    <tr>\n",
       "      <th>19</th>\n",
       "      <td>2014</td>\n",
       "      <td>-91.289</td>\n",
       "      <td>Dilma</td>\n",
       "    </tr>\n",
       "    <tr>\n",
       "      <th>20</th>\n",
       "      <td>2015</td>\n",
       "      <td>-69.737</td>\n",
       "      <td>Dilma</td>\n",
       "    </tr>\n",
       "    <tr>\n",
       "      <th>21</th>\n",
       "      <td>2016</td>\n",
       "      <td>-66.296</td>\n",
       "      <td>Dilma</td>\n",
       "    </tr>\n",
       "  </tbody>\n",
       "</table>\n",
       "</div>"
      ],
      "text/plain": [
       "     Ano  Valor (Bilhões de Reais)    Periodos\n",
       "0   1995                   -18.384         FHC\n",
       "1   1996                   -23.502         FHC\n",
       "2   1997                   -30.453         FHC\n",
       "3   1998                   -33.416         FHC\n",
       "4   1999                   -25.334         FHC\n",
       "5   2000                   -24.224         FHC\n",
       "6   2001                   -23.215         FHC\n",
       "7   2002                    -7.637         FHC\n",
       "8   2003                     4.178    FHC/Lula\n",
       "9   2004                    11.679        Lula\n",
       "10  2005                    13.985        Lula\n",
       "11  2006                    13.642        Lula\n",
       "12  2007                     1.551        Lula\n",
       "13  2008                   -28.192        Lula\n",
       "14  2009                   -24.302        Lula\n",
       "15  2010                   -47.273        Lula\n",
       "16  2011                   -52.473  Lula/Dilma\n",
       "17  2012                   -54.249       Dilma\n",
       "18  2013                   -81.227       Dilma\n",
       "19  2014                   -91.289       Dilma\n",
       "20  2015                   -69.737       Dilma\n",
       "21  2016                   -66.296       Dilma"
      ]
     },
     "execution_count": 148,
     "metadata": {},
     "output_type": "execute_result"
    }
   ],
   "source": [
    "bca"
   ]
  },
  {
   "cell_type": "code",
   "execution_count": 149,
   "metadata": {},
   "outputs": [],
   "source": [
    "tips = sea.load_dataset('tips')"
   ]
  },
  {
   "cell_type": "code",
   "execution_count": 143,
   "metadata": {},
   "outputs": [
    {
     "data": {
      "image/png": "[encoded data removed]",
      "text/plain": [
       "<Figure size 1418.4x595.44 with 1 Axes>"
      ]
     },
     "metadata": {
      "needs_background": "light"
     },
     "output_type": "display_data"
    }
   ],
   "source": [
    "fig, ax = plt.subplots()\n",
    "fig.set_size_inches(19.7, 8.27)\n",
    "sea.lineplot(x='Ano', y ='Valor (Bilhões de Reais)', data = bca)\n",
    "kde_x, kde_y = ax.lines[0].get_data()\n",
    "p1 = plt.axvline(x='1995',color='#EF9A9A')\n",
    "p2 = plt.axvline(x='2003',color='#EF9A9A')\n",
    "\n",
    "ax.fill_between(kde_x, kde_y,interpolate=True, color='#EF9A9A')\n",
    "\n",
    "\n",
    "sea.despine()"
   ]
  },
  {
   "cell_type": "code",
   "execution_count": 123,
   "metadata": {},
   "outputs": [],
   "source": []
  },
  {
   "cell_type": "code",
   "execution_count": 141,
   "metadata": {},
   "outputs": [
    {
     "data": {
      "text/plain": [
       "array(['1995', '1996', '1997', '1998', '1999', '2000', '2001', '2002',\n",
       "       '2003', '2004', '2005', '2006', '2007', '2008', '2009', '2010',\n",
       "       '2011', '2012', '2013', '2014', '2015', '2016'], dtype=object)"
      ]
     },
     "execution_count": 141,
     "metadata": {},
     "output_type": "execute_result"
    }
   ],
   "source": [
    "kde_x"
   ]
  },
  {
   "cell_type": "code",
   "execution_count": null,
   "metadata": {},
   "outputs": [],
   "source": []
  }
 ],
 "metadata": {
  "kernelspec": {
   "display_name": "Python 3",
   "language": "python",
   "name": "python3"
  },
  "language_info": {
   "codemirror_mode": {
    "name": "ipython",
    "version": 3
   },
   "file_extension": ".py",
   "mimetype": "text/x-python",
   "name": "python",
   "nbconvert_exporter": "python",
   "pygments_lexer": "ipython3",
   "version": "3.6.5"
  }
 },
 "nbformat": 4,
 "nbformat_minor": 2
}
